{
 "cells": [
  {
   "cell_type": "markdown",
   "id": "bdf42963-c5d6-4cf1-af22-aeea4cc38613",
   "metadata": {},
   "source": [
    "# Comparing the coverage of place search APIs\n"
   ]
  },
  {
   "cell_type": "markdown",
   "id": "c38d1f75-5895-4429-a711-f37d79168e77",
   "metadata": {},
   "source": [
    "Data Sources\n",
    "* Foursquare 'Search for Venue'  API\n",
    "* Yelp 'Business Search ' API\n",
    "* Google Map 'Place Search -- Nearby Search' API"
   ]
  },
  {
   "cell_type": "markdown",
   "id": "c72664c0-65e5-4ca8-8dae-59e0b6029838",
   "metadata": {},
   "source": [
    "Steps\n",
    "* Build **get** function for each API\n",
    "* Use for loop work through categories, and concat return DataFrame\n",
    "* Value_counts categories, and compare results form three APIs"
   ]
  },
  {
   "attachments": {
    "06d15682-69bd-451f-bfac-859c2a37abd5.png": {
     "image/png": "[encoded data removed]"
    }
   },
   "cell_type": "markdown",
   "id": "f215edc6-1427-494e-a7e1-6177dc537905",
   "metadata": {},
   "source": [
    "![image.png](attachment:06d15682-69bd-451f-bfac-859c2a37abd5.png)"
   ]
  },
  {
   "attachments": {
    "1888f954-8905-4d07-9733-4d397f532aaf.png": {
     "image/png": "[encoded data removed]"
    }
   },
   "cell_type": "markdown",
   "id": "2bd7bc1f-66e0-4eea-b2b0-acdacf3e287f",
   "metadata": {},
   "source": [
    "![image.png](attachment:1888f954-8905-4d07-9733-4d397f532aaf.png)"
   ]
  },
  {
   "cell_type": "markdown",
   "id": "3d713382-225b-4849-82dc-a19de1cf7834",
   "metadata": {},
   "source": [
    "Challenges\n",
    "* Different APIs have different methods of categorizing and tagging.\n",
    "* Limitation of accesses and data volumn from APIs. "
   ]
  },
  {
   "cell_type": "code",
   "execution_count": 69,
   "id": "0d8f65ff-5a47-47e2-b59d-0c5e4dda50e9",
   "metadata": {},
   "outputs": [],
   "source": [
    "import pandas as pd\n",
    "import numpy as np\n",
    "import requests as re\n",
    "import sqlite3\n",
    "from IPython.display import JSON\n",
    "import APIkey\n",
    "import json"
   ]
  },
  {
   "cell_type": "code",
   "execution_count": 146,
   "id": "b73d4a25-9a9d-4bd6-a9bf-d39497d97e70",
   "metadata": {},
   "outputs": [],
   "source": [
    "#set the keys\n",
    "foursquare_id = APIkey.FOURSQUARE1['FOURSQUARE_CLIENT_ID']\n",
    "foursquare_secret = APIkey.FOURSQUARE1['FOURSQUARE_CLIENT_SECRET']\n",
    "\n",
    "yelp_key = APIkey.YELP['API_KEY']\n",
    "\n",
    "google_key = APIkey.GOOGLE['KEY']\n"
   ]
  },
  {
   "cell_type": "markdown",
   "id": "862bc381-1ebf-426f-bf7e-962d2408f630",
   "metadata": {},
   "source": [
    "## Search and get data from Foursquare\n"
   ]
  },
  {
   "cell_type": "code",
   "execution_count": 131,
   "id": "9cf7e83a-574f-4add-af4d-3f979744271d",
   "metadata": {},
   "outputs": [],
   "source": [
    "def get_venues(location):\n",
    "    \n",
    "    # key params\n",
    "    client_id = foursquare_id\n",
    "    client_secret = foursquare_secret\n",
    "    limit = 100\n",
    "    ll = location\n",
    "    categoryId = '4bf58dd8d48988d1c4941735'\n",
    "    radius = 1500\n",
    "    v = '20210720'\n",
    "    \n",
    "    bars ='4bf58dd8d48988d116941735'\n",
    "    restaurant = '4bf58dd8d48988d1c4941735'\n",
    "    museum = '4bf58dd8d48988d181941735'\n",
    "    theme_park = '4bf58dd8d48988d182941735'\n",
    "    park = '4bf58dd8d48988d163941735'\n",
    "    \n",
    "        \n",
    "\n",
    "    # build endpoint\n",
    "    url = \"https://api.foursquare.com\"\n",
    "    api_method = '/v2/venues/search'\n",
    "    endpoint = url + api_method\n",
    "   \n",
    "    # get data\n",
    "    res = re.get(endpoint, params={'client_id':client_id, 'client_secret':client_secret,'ll': ll,'categoryId':categoryId,'limit':limit,'radius':radius,'v':v})\n",
    "    if res.status_code != 200:\n",
    "        print(f'{location} is wrong, {res.status_code} can not get data.')\n",
    "        return -1\n",
    "    response = res.json()\n",
    "    \n",
    "    #put data in a DataFrame\n",
    "    columns = ['y_category','y_name']\n",
    "    df = pd.DataFrame(columns=columns)\n",
    "    for i in range(len(response['response']['venues'])):\n",
    "        df.loc[i] = ['restaurants', response['response']['venues'][i]['name']]\n",
    "    \n",
    "    \n",
    "    return df"
   ]
  },
  {
   "cell_type": "code",
   "execution_count": 115,
   "id": "83ce3746-d8d2-4ece-befc-3b8d98a4b8c4",
   "metadata": {},
   "outputs": [],
   "source": [
    "columns = ['y_category','y_name']\n",
    "df_fours = pd.DataFrame(columns=columns)   "
   ]
  },
  {
   "cell_type": "code",
   "execution_count": 132,
   "id": "d1362ac5-80db-4884-97ca-05fc308e8d2e",
   "metadata": {},
   "outputs": [],
   "source": [
    "ll ='49.161870,-123.165972'\n",
    "df = get_venues(ll)"
   ]
  },
  {
   "cell_type": "code",
   "execution_count": 134,
   "id": "68c63bd7-2afa-405a-b078-ebec96241675",
   "metadata": {},
   "outputs": [],
   "source": [
    "df_fours = pd.concat([df_fours,df])"
   ]
  },
  {
   "cell_type": "code",
   "execution_count": 145,
   "id": "6473de35-d904-4d72-a4e7-16490d9e388b",
   "metadata": {},
   "outputs": [
    {
     "data": {
      "text/plain": [
       "parks          31\n",
       "bars           10\n",
       "museums         4\n",
       "restaurants     3\n",
       "Name: y_category, dtype: int64"
      ]
     },
     "execution_count": 145,
     "metadata": {},
     "output_type": "execute_result"
    }
   ],
   "source": [
    "df_fours['y_category'].value_counts()"
   ]
  },
  {
   "cell_type": "markdown",
   "id": "844c3741-2168-4806-9c3e-27b43e486914",
   "metadata": {},
   "source": [
    "## Search and get data from Yelp\n"
   ]
  },
  {
   "cell_type": "code",
   "execution_count": 140,
   "id": "4137649c-0dbe-45c8-bfb2-771ee4c66eda",
   "metadata": {},
   "outputs": [],
   "source": [
    "def get_yelp(lat,lon,categ):\n",
    "    \n",
    "    # key params\n",
    "    headers = {'Authorization': f\"Bearer {yelp_key}\"}\n",
    "    latitude = lat\n",
    "    longitude = lon\n",
    "    categories= categ\n",
    "    radius = 1500\n",
    "    limit = 50\n",
    "   \n",
    "    \n",
    "\n",
    "    # build endpoint\n",
    "    url = \"https://api.yelp.com\"\n",
    "    api_method = '/v3/businesses/search'\n",
    "    endpoint = url + api_method\n",
    "    \n",
    "\n",
    "   \n",
    "    # get data\n",
    "    res = re.get(endpoint, headers= headers, params={'latitude':latitude, 'longitude':longitude,'categories':categories,'radius':radius,'limit':limit})\n",
    "    if res.status_code != 200:\n",
    "        print(f'There is wrong, {res.status_code} can not get data.')\n",
    "        return -1\n",
    "    response = res.json()\n",
    "    \n",
    "    #put data in a DataFrame\n",
    "    columns = ['y_category','y_name']\n",
    "    df = pd.DataFrame(columns=columns)\n",
    "    for i in range(len(response['businesses'])):\n",
    "        df.loc[i] = [categ, response['businesses'][i]['name']]\n",
    "           \n",
    "    \n",
    "    return df"
   ]
  },
  {
   "cell_type": "code",
   "execution_count": 138,
   "id": "3c989571-283d-4df8-8d96-1efdabf0195a",
   "metadata": {},
   "outputs": [],
   "source": [
    "columns = ['y_category','y_name']\n",
    "df_yelp = pd.DataFrame(columns=columns)\n",
    "for c in ['bars','museums','parks']:\n",
    "    df = get_yelp(49.161870, -123.165972,c)\n",
    "    df_yelp = pd.concat([df_yelp,df])\n",
    "       "
   ]
  },
  {
   "cell_type": "code",
   "execution_count": 141,
   "id": "54fadf7e-e778-42a2-a1d2-896fb8d671df",
   "metadata": {},
   "outputs": [],
   "source": [
    "df = get_yelp(49.161870, -123.165972,'restaurants')\n",
    "df_yelp = pd.concat([df_yelp,df])"
   ]
  },
  {
   "cell_type": "code",
   "execution_count": 143,
   "id": "470304ca-0409-49e9-9d6e-95b77578b486",
   "metadata": {},
   "outputs": [
    {
     "data": {
      "text/plain": [
       "restaurants    32\n",
       "bars           19\n",
       "parks           7\n",
       "museums         1\n",
       "Name: y_category, dtype: int64"
      ]
     },
     "execution_count": 143,
     "metadata": {},
     "output_type": "execute_result"
    }
   ],
   "source": [
    "df_yelp['y_category'].value_counts()"
   ]
  },
  {
   "cell_type": "markdown",
   "id": "bd4cfa32-453c-4cc5-a266-55ea1af870fd",
   "metadata": {},
   "source": [
    "## Search and get data from Google Map API"
   ]
  },
  {
   "cell_type": "code",
   "execution_count": 162,
   "id": "c46fd2cf-f05f-414b-8f7a-ab0082b21668",
   "metadata": {},
   "outputs": [],
   "source": [
    "def get_googlemap(lat,categ):\n",
    "    \n",
    "    # key params\n",
    "    key = google_key\n",
    "    location = '49.161870,-123.165972'\n",
    "    type = categ\n",
    "    radius = 1500\n",
    "    \n",
    "   \n",
    "    \n",
    "\n",
    "    # build endpoint\n",
    "    url = \"https://maps.googleapis.com\"\n",
    "    api_method = '/maps/api/place/nearbysearch/json'\n",
    "    endpoint = url + api_method\n",
    "    \n",
    "\n",
    "   \n",
    "    # get data\n",
    "    res = re.get(endpoint,  params={'key':key, 'location':location,'type':type,'radius':radius})\n",
    "    if res.status_code != 200:\n",
    "        print(f'There is wrong, {res.status_code} can not get data.')\n",
    "        return -1\n",
    "    response = res.json()\n",
    "    \n",
    "    #put data in a DataFrame\n",
    "    columns = ['y_category','y_name']\n",
    "    df = pd.DataFrame(columns=columns)\n",
    "    for i in range(len(response['results'])):\n",
    "        df.loc[i] = [categ, response['results'][i]['name']]\n",
    "        \n",
    "    \n",
    "    \n",
    "    return df"
   ]
  },
  {
   "cell_type": "code",
   "execution_count": 160,
   "id": "b44ef7ec-a230-4c97-95ed-c2d356ae67d5",
   "metadata": {},
   "outputs": [],
   "source": [
    "columns = ['y_category','y_name']\n",
    "df_google = pd.DataFrame(columns=columns)\n",
    "for c in ['bar','museum','park']:\n",
    "    df = get_googlemap('49.161870, -123.165972',c)\n",
    "    df_google = pd.concat([df_google,df])"
   ]
  },
  {
   "cell_type": "code",
   "execution_count": 163,
   "id": "d4b83182-3477-4bef-a344-0e7bfb083dbc",
   "metadata": {},
   "outputs": [],
   "source": [
    "df = get_googlemap('49.161870, -123.165972','restaurant')\n",
    "df_google = pd.concat([df_google,df])"
   ]
  },
  {
   "cell_type": "code",
   "execution_count": 166,
   "id": "2cc9978a-78e2-4344-ab3b-1076243a9e4b",
   "metadata": {},
   "outputs": [
    {
     "data": {
      "text/plain": [
       "park          20\n",
       "restaurant    13\n",
       "bar           11\n",
       "museum         6\n",
       "Name: y_category, dtype: int64"
      ]
     },
     "execution_count": 166,
     "metadata": {},
     "output_type": "execute_result"
    }
   ],
   "source": [
    "df_google['y_category'].value_counts()"
   ]
  },
  {
   "cell_type": "markdown",
   "id": "76df3ac2-991d-4d91-99e3-a1284b71b976",
   "metadata": {},
   "source": [
    "## Analyze top POIs nearby"
   ]
  },
  {
   "cell_type": "code",
   "execution_count": 182,
   "id": "2f143cc9-f3bc-4c31-b84d-15f8d7c90bc0",
   "metadata": {},
   "outputs": [],
   "source": [
    " # key params\n",
    "headers = {'Authorization': f\"Bearer {yelp_key}\"}\n",
    "latitude = 49.161870\n",
    "longitude =  -123.165972\n",
    "categories= 'restaurants'\n",
    "radius = 3000\n",
    "limit = 50\n",
    "   \n",
    "    \n",
    "\n",
    "    # build endpoint\n",
    "url = \"https://api.yelp.com\"\n",
    "api_method = '/v3/businesses/search'\n",
    "endpoint = url + api_method\n",
    "    \n",
    "\n",
    "   \n",
    "    # get data\n",
    "res = re.get(endpoint, headers= headers, params={'latitude':latitude, 'longitude':longitude,'categories':categories,'radius':radius,'limit':limit})\n",
    "response = res.json()"
   ]
  },
  {
   "cell_type": "code",
   "execution_count": 184,
   "id": "bbf5acfe-9eee-4210-bb16-cd7bcb76b150",
   "metadata": {},
   "outputs": [],
   "source": [
    "\n",
    "columns = ['y_category','y_name','review_count','rating','latitude','longitude']\n",
    "df_yelp_rating = pd.DataFrame(columns=columns)\n",
    "for i in range(len(response['businesses'])):\n",
    "        df_yelp_rating.loc[i] = ['restaurants', response['businesses'][i]['name'],response['businesses'][i]['review_count'],response['businesses'][i]['rating'],response['businesses'][i]['coordinates']['latitude'],response['businesses'][i]['coordinates']['longitude']]"
   ]
  },
  {
   "cell_type": "code",
   "execution_count": 186,
   "id": "e43c4042-64cf-462a-a6a1-899dacd1a049",
   "metadata": {},
   "outputs": [],
   "source": [
    "df_top_restaurant = df_yelp_rating.sort_values(['rating','review_count'], ascending=[False,False]).head(10)"
   ]
  },
  {
   "cell_type": "code",
   "execution_count": 188,
   "id": "44036157-31be-427b-96a6-de7a147d0cc9",
   "metadata": {},
   "outputs": [],
   "source": [
    "df_top_restaurant['ll'] = df_top_restaurant['latitude'].apply(str) + ',' + df_top_restaurant['longitude'].apply(str)"
   ]
  },
  {
   "cell_type": "code",
   "execution_count": 189,
   "id": "8d3d0845-1b1d-4c35-8d0f-5b1216b93338",
   "metadata": {},
   "outputs": [
    {
     "data": {
      "text/html": [
       "<div>\n",
       "<style scoped>\n",
       "    .dataframe tbody tr th:only-of-type {\n",
       "        vertical-align: middle;\n",
       "    }\n",
       "\n",
       "    .dataframe tbody tr th {\n",
       "        vertical-align: top;\n",
       "    }\n",
       "\n",
       "    .dataframe thead th {\n",
       "        text-align: right;\n",
       "    }\n",
       "</style>\n",
       "<table border=\"1\" class=\"dataframe\">\n",
       "  <thead>\n",
       "    <tr style=\"text-align: right;\">\n",
       "      <th></th>\n",
       "      <th>y_category</th>\n",
       "      <th>y_name</th>\n",
       "      <th>review_count</th>\n",
       "      <th>rating</th>\n",
       "      <th>latitude</th>\n",
       "      <th>longitude</th>\n",
       "      <th>ll</th>\n",
       "    </tr>\n",
       "  </thead>\n",
       "  <tbody>\n",
       "    <tr>\n",
       "      <th>9</th>\n",
       "      <td>restaurants</td>\n",
       "      <td>Cocoru</td>\n",
       "      <td>163</td>\n",
       "      <td>4.5</td>\n",
       "      <td>49.178466</td>\n",
       "      <td>-123.130374</td>\n",
       "      <td>49.1784663,-123.1303743</td>\n",
       "    </tr>\n",
       "    <tr>\n",
       "      <th>0</th>\n",
       "      <td>restaurants</td>\n",
       "      <td>Smokehouse Sandwich</td>\n",
       "      <td>152</td>\n",
       "      <td>4.5</td>\n",
       "      <td>49.169840</td>\n",
       "      <td>-123.167490</td>\n",
       "      <td>49.16984,-123.16749</td>\n",
       "    </tr>\n",
       "    <tr>\n",
       "      <th>4</th>\n",
       "      <td>restaurants</td>\n",
       "      <td>Haidilao</td>\n",
       "      <td>144</td>\n",
       "      <td>4.5</td>\n",
       "      <td>49.170430</td>\n",
       "      <td>-123.136330</td>\n",
       "      <td>49.17043,-123.13633</td>\n",
       "    </tr>\n",
       "    <tr>\n",
       "      <th>20</th>\n",
       "      <td>restaurants</td>\n",
       "      <td>Sushi Hachi Japanese Restaurant</td>\n",
       "      <td>109</td>\n",
       "      <td>4.5</td>\n",
       "      <td>49.184120</td>\n",
       "      <td>-123.126300</td>\n",
       "      <td>49.18412,-123.1263</td>\n",
       "    </tr>\n",
       "    <tr>\n",
       "      <th>14</th>\n",
       "      <td>restaurants</td>\n",
       "      <td>Pokey Okey</td>\n",
       "      <td>83</td>\n",
       "      <td>4.5</td>\n",
       "      <td>49.163365</td>\n",
       "      <td>-123.135459</td>\n",
       "      <td>49.1633651,-123.135459</td>\n",
       "    </tr>\n",
       "    <tr>\n",
       "      <th>39</th>\n",
       "      <td>restaurants</td>\n",
       "      <td>Mr Bro Korean Bistro &amp; Izakaya</td>\n",
       "      <td>63</td>\n",
       "      <td>4.5</td>\n",
       "      <td>49.178175</td>\n",
       "      <td>-123.127902</td>\n",
       "      <td>49.1781751,-123.127902</td>\n",
       "    </tr>\n",
       "    <tr>\n",
       "      <th>16</th>\n",
       "      <td>restaurants</td>\n",
       "      <td>Katsu San</td>\n",
       "      <td>43</td>\n",
       "      <td>4.5</td>\n",
       "      <td>49.169983</td>\n",
       "      <td>-123.181773</td>\n",
       "      <td>49.169982779066,-123.181773349643</td>\n",
       "    </tr>\n",
       "    <tr>\n",
       "      <th>1</th>\n",
       "      <td>restaurants</td>\n",
       "      <td>Shanghai River</td>\n",
       "      <td>686</td>\n",
       "      <td>4.0</td>\n",
       "      <td>49.170740</td>\n",
       "      <td>-123.138480</td>\n",
       "      <td>49.17074,-123.13848</td>\n",
       "    </tr>\n",
       "    <tr>\n",
       "      <th>2</th>\n",
       "      <td>restaurants</td>\n",
       "      <td>Kirin Seafood Restaurant</td>\n",
       "      <td>488</td>\n",
       "      <td>4.0</td>\n",
       "      <td>49.169910</td>\n",
       "      <td>-123.137530</td>\n",
       "      <td>49.16991,-123.13753</td>\n",
       "    </tr>\n",
       "    <tr>\n",
       "      <th>3</th>\n",
       "      <td>restaurants</td>\n",
       "      <td>HK BBQ Master</td>\n",
       "      <td>410</td>\n",
       "      <td>4.0</td>\n",
       "      <td>49.179607</td>\n",
       "      <td>-123.136875</td>\n",
       "      <td>49.1796073,-123.1368749</td>\n",
       "    </tr>\n",
       "  </tbody>\n",
       "</table>\n",
       "</div>"
      ],
      "text/plain": [
       "     y_category                           y_name review_count  rating  \\\n",
       "9   restaurants                           Cocoru          163     4.5   \n",
       "0   restaurants              Smokehouse Sandwich          152     4.5   \n",
       "4   restaurants                         Haidilao          144     4.5   \n",
       "20  restaurants  Sushi Hachi Japanese Restaurant          109     4.5   \n",
       "14  restaurants                       Pokey Okey           83     4.5   \n",
       "39  restaurants   Mr Bro Korean Bistro & Izakaya           63     4.5   \n",
       "16  restaurants                        Katsu San           43     4.5   \n",
       "1   restaurants                   Shanghai River          686     4.0   \n",
       "2   restaurants         Kirin Seafood Restaurant          488     4.0   \n",
       "3   restaurants                    HK BBQ Master          410     4.0   \n",
       "\n",
       "     latitude   longitude                                 ll  \n",
       "9   49.178466 -123.130374            49.1784663,-123.1303743  \n",
       "0   49.169840 -123.167490                49.16984,-123.16749  \n",
       "4   49.170430 -123.136330                49.17043,-123.13633  \n",
       "20  49.184120 -123.126300                 49.18412,-123.1263  \n",
       "14  49.163365 -123.135459             49.1633651,-123.135459  \n",
       "39  49.178175 -123.127902             49.1781751,-123.127902  \n",
       "16  49.169983 -123.181773  49.169982779066,-123.181773349643  \n",
       "1   49.170740 -123.138480                49.17074,-123.13848  \n",
       "2   49.169910 -123.137530                49.16991,-123.13753  \n",
       "3   49.179607 -123.136875            49.1796073,-123.1368749  "
      ]
     },
     "execution_count": 189,
     "metadata": {},
     "output_type": "execute_result"
    }
   ],
   "source": [
    "df_top_restaurant"
   ]
  }
 ],
 "metadata": {
  "kernelspec": {
   "display_name": "Python 3",
   "language": "python",
   "name": "python3"
  },
  "language_info": {
   "codemirror_mode": {
    "name": "ipython",
    "version": 3
   },
   "file_extension": ".py",
   "mimetype": "text/x-python",
   "name": "python",
   "nbconvert_exporter": "python",
   "pygments_lexer": "ipython3",
   "version": "3.7.6"
  }
 },
 "nbformat": 4,
 "nbformat_minor": 5
}
